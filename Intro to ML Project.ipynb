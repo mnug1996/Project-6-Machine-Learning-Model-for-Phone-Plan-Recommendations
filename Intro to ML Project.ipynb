{
 "cells": [
  {
   "cell_type": "markdown",
   "metadata": {},
   "source": [
    "# Megaline ML Model Report\n",
    "\n",
    "**The objective of this analysis is to develop a model that will pick the correct recommendation for phone plans (smart or ultra) based on exising customer behavior data. The accuracy thershold for this model will be 0.75 and will be tested using a test dataset. The model will be completed by using the following steps:**\n",
    "\n",
    "Step 1: Open and look through the data file (datasets/users_behavior.csv)\n",
    "\n",
    "Step 2: Split the source data into a training set, a validation set, and a test set\n",
    "\n",
    "Step 3: Investigate the quality of different models by changing hyperparameters. Briefly describe the findings of the study\n",
    "\n",
    "Step 4: Check the quality of the model using the test set\n",
    "\n",
    "Step 5: Form a conclusion"
   ]
  },
  {
   "cell_type": "markdown",
   "metadata": {},
   "source": [
    "## Open and look through the data file "
   ]
  },
  {
   "cell_type": "code",
   "execution_count": 1,
   "metadata": {},
   "outputs": [
    {
     "name": "stdout",
     "output_type": "stream",
     "text": [
      "<class 'pandas.core.frame.DataFrame'>\n",
      "RangeIndex: 3214 entries, 0 to 3213\n",
      "Data columns (total 5 columns):\n",
      "calls       3214 non-null float64\n",
      "minutes     3214 non-null float64\n",
      "messages    3214 non-null float64\n",
      "mb_used     3214 non-null float64\n",
      "is_ultra    3214 non-null int64\n",
      "dtypes: float64(4), int64(1)\n",
      "memory usage: 125.7 KB\n"
     ]
    },
    {
     "data": {
      "text/html": [
       "<div>\n",
       "<style scoped>\n",
       "    .dataframe tbody tr th:only-of-type {\n",
       "        vertical-align: middle;\n",
       "    }\n",
       "\n",
       "    .dataframe tbody tr th {\n",
       "        vertical-align: top;\n",
       "    }\n",
       "\n",
       "    .dataframe thead th {\n",
       "        text-align: right;\n",
       "    }\n",
       "</style>\n",
       "<table border=\"1\" class=\"dataframe\">\n",
       "  <thead>\n",
       "    <tr style=\"text-align: right;\">\n",
       "      <th></th>\n",
       "      <th>calls</th>\n",
       "      <th>minutes</th>\n",
       "      <th>messages</th>\n",
       "      <th>mb_used</th>\n",
       "      <th>is_ultra</th>\n",
       "    </tr>\n",
       "  </thead>\n",
       "  <tbody>\n",
       "    <tr>\n",
       "      <td>0</td>\n",
       "      <td>40.0</td>\n",
       "      <td>311.90</td>\n",
       "      <td>83.0</td>\n",
       "      <td>19915.42</td>\n",
       "      <td>0</td>\n",
       "    </tr>\n",
       "    <tr>\n",
       "      <td>1</td>\n",
       "      <td>85.0</td>\n",
       "      <td>516.75</td>\n",
       "      <td>56.0</td>\n",
       "      <td>22696.96</td>\n",
       "      <td>0</td>\n",
       "    </tr>\n",
       "    <tr>\n",
       "      <td>2</td>\n",
       "      <td>77.0</td>\n",
       "      <td>467.66</td>\n",
       "      <td>86.0</td>\n",
       "      <td>21060.45</td>\n",
       "      <td>0</td>\n",
       "    </tr>\n",
       "    <tr>\n",
       "      <td>3</td>\n",
       "      <td>106.0</td>\n",
       "      <td>745.53</td>\n",
       "      <td>81.0</td>\n",
       "      <td>8437.39</td>\n",
       "      <td>1</td>\n",
       "    </tr>\n",
       "    <tr>\n",
       "      <td>4</td>\n",
       "      <td>66.0</td>\n",
       "      <td>418.74</td>\n",
       "      <td>1.0</td>\n",
       "      <td>14502.75</td>\n",
       "      <td>0</td>\n",
       "    </tr>\n",
       "    <tr>\n",
       "      <td>5</td>\n",
       "      <td>58.0</td>\n",
       "      <td>344.56</td>\n",
       "      <td>21.0</td>\n",
       "      <td>15823.37</td>\n",
       "      <td>0</td>\n",
       "    </tr>\n",
       "    <tr>\n",
       "      <td>6</td>\n",
       "      <td>57.0</td>\n",
       "      <td>431.64</td>\n",
       "      <td>20.0</td>\n",
       "      <td>3738.90</td>\n",
       "      <td>1</td>\n",
       "    </tr>\n",
       "    <tr>\n",
       "      <td>7</td>\n",
       "      <td>15.0</td>\n",
       "      <td>132.40</td>\n",
       "      <td>6.0</td>\n",
       "      <td>21911.60</td>\n",
       "      <td>0</td>\n",
       "    </tr>\n",
       "    <tr>\n",
       "      <td>8</td>\n",
       "      <td>7.0</td>\n",
       "      <td>43.39</td>\n",
       "      <td>3.0</td>\n",
       "      <td>2538.67</td>\n",
       "      <td>1</td>\n",
       "    </tr>\n",
       "    <tr>\n",
       "      <td>9</td>\n",
       "      <td>90.0</td>\n",
       "      <td>665.41</td>\n",
       "      <td>38.0</td>\n",
       "      <td>17358.61</td>\n",
       "      <td>0</td>\n",
       "    </tr>\n",
       "  </tbody>\n",
       "</table>\n",
       "</div>"
      ],
      "text/plain": [
       "   calls  minutes  messages   mb_used  is_ultra\n",
       "0   40.0   311.90      83.0  19915.42         0\n",
       "1   85.0   516.75      56.0  22696.96         0\n",
       "2   77.0   467.66      86.0  21060.45         0\n",
       "3  106.0   745.53      81.0   8437.39         1\n",
       "4   66.0   418.74       1.0  14502.75         0\n",
       "5   58.0   344.56      21.0  15823.37         0\n",
       "6   57.0   431.64      20.0   3738.90         1\n",
       "7   15.0   132.40       6.0  21911.60         0\n",
       "8    7.0    43.39       3.0   2538.67         1\n",
       "9   90.0   665.41      38.0  17358.61         0"
      ]
     },
     "metadata": {},
     "output_type": "display_data"
    },
    {
     "data": {
      "text/plain": [
       "None"
      ]
     },
     "metadata": {},
     "output_type": "display_data"
    }
   ],
   "source": [
    "import pandas as pd\n",
    "user_data = pd.read_csv('/datasets/users_behavior.csv')\n",
    "try:\n",
    "    display(user_data.head(10), user_data.info())\n",
    "except:\n",
    "    display('cannot read csv')"
   ]
  },
  {
   "cell_type": "markdown",
   "metadata": {},
   "source": [
    "### Conclusion: Opening the data\n",
    "\n",
    "1) The data is readable and non-corrupt\n",
    "\n",
    "2) There are 5 columns, 4 quantitative with is_ultra as the categorical and 3214 rows\n",
    "\n",
    "3) All data types are acceptable\n",
    "\n",
    "4) The data is now ready to split "
   ]
  },
  {
   "cell_type": "markdown",
   "metadata": {},
   "source": [
    "## Split the source data into a training set, a validation set, and a test set"
   ]
  },
  {
   "cell_type": "code",
   "execution_count": 2,
   "metadata": {},
   "outputs": [
    {
     "data": {
      "text/plain": [
       "(1928, 4)"
      ]
     },
     "metadata": {},
     "output_type": "display_data"
    },
    {
     "data": {
      "text/plain": [
       "(1928,)"
      ]
     },
     "metadata": {},
     "output_type": "display_data"
    },
    {
     "data": {
      "text/plain": [
       "(643, 4)"
      ]
     },
     "metadata": {},
     "output_type": "display_data"
    },
    {
     "data": {
      "text/plain": [
       "(643,)"
      ]
     },
     "metadata": {},
     "output_type": "display_data"
    },
    {
     "data": {
      "text/plain": [
       "(643, 4)"
      ]
     },
     "metadata": {},
     "output_type": "display_data"
    },
    {
     "data": {
      "text/plain": [
       "(643,)"
      ]
     },
     "metadata": {},
     "output_type": "display_data"
    }
   ],
   "source": [
    "from sklearn.model_selection import train_test_split\n",
    "\n",
    "#Only a source dataset exists therefore, a 3:1:1 split is needed\n",
    "train_size=0.6\n",
    "\n",
    "features = user_data.drop('is_ultra', axis=1)\n",
    "target = user_data['is_ultra']\n",
    "\n",
    "#The 'rem' datasets are the remaining 40% of the data after allocating 60% to the train dataset\n",
    "features_train, features_rem, target_train, target_rem = train_test_split(features, target, \n",
    "                                                                          train_size=0.6, random_state=12345)\n",
    "\n",
    "#Split the 'rem' dataset (40%) in half so that each half is 20% (60:20:20 is 3:1:1 ratio)\n",
    "test_size = 0.5\n",
    "features_valid, features_test, target_valid, target_test = train_test_split(features_rem, target_rem, \n",
    "                                                                            test_size=0.5, random_state=12345)\n",
    "\n",
    "display(features_train.shape, target_train.shape, \n",
    "        features_valid.shape, target_valid.shape,\n",
    "        features_test.shape, target_test.shape)\n"
   ]
  },
  {
   "cell_type": "markdown",
   "metadata": {},
   "source": [
    "### Conclusion: Splitting into train, valid, and test sets\n",
    "\n",
    "1) The data was successfully split into train (60%), valid (20%), and test (20%) datasets\n",
    "\n",
    "2) There are 1928 rows in the training sets and 643 rows for the valid and test sets"
   ]
  },
  {
   "cell_type": "markdown",
   "metadata": {},
   "source": [
    "## Investigate the quality of different models by changing hyperparameters. Briefly describe the findings of the study."
   ]
  },
  {
   "cell_type": "code",
   "execution_count": 13,
   "metadata": {},
   "outputs": [
    {
     "data": {
      "text/html": [
       "<div>\n",
       "<style scoped>\n",
       "    .dataframe tbody tr th:only-of-type {\n",
       "        vertical-align: middle;\n",
       "    }\n",
       "\n",
       "    .dataframe tbody tr th {\n",
       "        vertical-align: top;\n",
       "    }\n",
       "\n",
       "    .dataframe thead th {\n",
       "        text-align: right;\n",
       "    }\n",
       "</style>\n",
       "<table border=\"1\" class=\"dataframe\">\n",
       "  <thead>\n",
       "    <tr style=\"text-align: right;\">\n",
       "      <th></th>\n",
       "      <th>Accuracy</th>\n",
       "      <th>Max_depth</th>\n",
       "    </tr>\n",
       "  </thead>\n",
       "  <tbody>\n",
       "    <tr>\n",
       "      <td>2</td>\n",
       "      <td>0.785381</td>\n",
       "      <td>3</td>\n",
       "    </tr>\n",
       "    <tr>\n",
       "      <td>1</td>\n",
       "      <td>0.782271</td>\n",
       "      <td>2</td>\n",
       "    </tr>\n",
       "    <tr>\n",
       "      <td>3</td>\n",
       "      <td>0.779160</td>\n",
       "      <td>4</td>\n",
       "    </tr>\n",
       "    <tr>\n",
       "      <td>4</td>\n",
       "      <td>0.779160</td>\n",
       "      <td>5</td>\n",
       "    </tr>\n",
       "    <tr>\n",
       "      <td>0</td>\n",
       "      <td>0.754277</td>\n",
       "      <td>1</td>\n",
       "    </tr>\n",
       "  </tbody>\n",
       "</table>\n",
       "</div>"
      ],
      "text/plain": [
       "   Accuracy  Max_depth\n",
       "2  0.785381          3\n",
       "1  0.782271          2\n",
       "3  0.779160          4\n",
       "4  0.779160          5\n",
       "0  0.754277          1"
      ]
     },
     "execution_count": 13,
     "metadata": {},
     "output_type": "execute_result"
    }
   ],
   "source": [
    "#First, experiment with decision tree hyperparameters\n",
    "from sklearn.tree import DecisionTreeClassifier\n",
    "from sklearn.metrics import accuracy_score\n",
    "\n",
    "results=[]\n",
    "for depth in range(1, 6):\n",
    "    model = DecisionTreeClassifier(random_state=12345, max_depth=depth)\n",
    "    model.fit(features_train, target_train)\n",
    "    preds = model.predict(features_valid)\n",
    "    results.append({\n",
    "                'Accuracy': accuracy_score(target_valid, preds),\n",
    "                'Max_depth': depth})\n",
    "    \n",
    "results = pd.DataFrame(results)\n",
    "results = results.sort_values(by='Accuracy', ascending=False)\n",
    "results\n"
   ]
  },
  {
   "cell_type": "markdown",
   "metadata": {},
   "source": [
    "### Conclusion: Tuning hyperparameters -- Decision Tree\n",
    "\n",
    "1) For a decision tree model, a depth of 3 produces the most accurate value\n",
    "\n",
    "2) After concluding the most accurate decision tree model, random forest models can be analyzed next"
   ]
  },
  {
   "cell_type": "code",
   "execution_count": 20,
   "metadata": {},
   "outputs": [
    {
     "data": {
      "text/html": [
       "<div>\n",
       "<style scoped>\n",
       "    .dataframe tbody tr th:only-of-type {\n",
       "        vertical-align: middle;\n",
       "    }\n",
       "\n",
       "    .dataframe tbody tr th {\n",
       "        vertical-align: top;\n",
       "    }\n",
       "\n",
       "    .dataframe thead th {\n",
       "        text-align: right;\n",
       "    }\n",
       "</style>\n",
       "<table border=\"1\" class=\"dataframe\">\n",
       "  <thead>\n",
       "    <tr style=\"text-align: right;\">\n",
       "      <th></th>\n",
       "      <th>Accuracy</th>\n",
       "      <th>n_estimator</th>\n",
       "    </tr>\n",
       "  </thead>\n",
       "  <tbody>\n",
       "    <tr>\n",
       "      <td>3</td>\n",
       "      <td>0.771384</td>\n",
       "      <td>4</td>\n",
       "    </tr>\n",
       "    <tr>\n",
       "      <td>1</td>\n",
       "      <td>0.763608</td>\n",
       "      <td>2</td>\n",
       "    </tr>\n",
       "    <tr>\n",
       "      <td>4</td>\n",
       "      <td>0.749611</td>\n",
       "      <td>5</td>\n",
       "    </tr>\n",
       "    <tr>\n",
       "      <td>2</td>\n",
       "      <td>0.738725</td>\n",
       "      <td>3</td>\n",
       "    </tr>\n",
       "    <tr>\n",
       "      <td>0</td>\n",
       "      <td>0.710731</td>\n",
       "      <td>1</td>\n",
       "    </tr>\n",
       "  </tbody>\n",
       "</table>\n",
       "</div>"
      ],
      "text/plain": [
       "   Accuracy  n_estimator\n",
       "3  0.771384            4\n",
       "1  0.763608            2\n",
       "4  0.749611            5\n",
       "2  0.738725            3\n",
       "0  0.710731            1"
      ]
     },
     "execution_count": 20,
     "metadata": {},
     "output_type": "execute_result"
    }
   ],
   "source": [
    "#import random forest \n",
    "from sklearn.ensemble import RandomForestClassifier\n",
    "results=[]\n",
    "\n",
    "for estimator in range(1, 6):\n",
    "    model = RandomForestClassifier(random_state=12345, n_estimators=estimator)\n",
    "    model.fit(features_train, target_train)\n",
    "    preds = model.predict(features_valid)\n",
    "    results.append({\n",
    "                'Accuracy': accuracy_score(target_valid, preds),\n",
    "                'n_estimator': estimator})\n",
    "    \n",
    "results = pd.DataFrame(results)\n",
    "results = results.sort_values(by='Accuracy', ascending=False)\n",
    "results\n"
   ]
  },
  {
   "cell_type": "markdown",
   "metadata": {},
   "source": [
    "### Conclusion: Tuning hyperparameters -- Random Forest\n",
    "\n",
    "1) The number of estimators that ellicited the best accuracy was 4 at 0.77 accuracy\n",
    "\n",
    "2) Next model, logistic regression"
   ]
  },
  {
   "cell_type": "code",
   "execution_count": 21,
   "metadata": {},
   "outputs": [
    {
     "name": "stdout",
     "output_type": "stream",
     "text": [
      "0.7542768273716952\n"
     ]
    }
   ],
   "source": [
    "#logistic regression\n",
    "from sklearn.linear_model import LogisticRegression \n",
    "\n",
    "model = LogisticRegression(random_state=12345, solver='liblinear')\n",
    "model.fit(features_train, target_train)\n",
    "preds = model.predict(features_valid)\n",
    "\n",
    "print(accuracy_score(target_valid, predictions_valid))"
   ]
  },
  {
   "cell_type": "markdown",
   "metadata": {},
   "source": [
    "### Tuning hyperparameters general conclusion\n",
    "\n",
    "1) The best models for accuracy was the decision tree model at max_depths 3 and 2 producing 0.78 accuracy\n",
    "\n",
    "2) The next best model was the random forest model at n_estimators 4 producing 0.77 accuracy\n",
    "\n",
    "3) The worst model for accuracy was logistic regression at 0.75"
   ]
  },
  {
   "cell_type": "markdown",
   "metadata": {},
   "source": [
    "<div class=\"alert alert-block alert-info\">\n",
    "<b>Improve: </b> You could tune more than one parameter for some models (loop in loop).\n",
    "</div>\n",
    "\n",
    "<div class=\"alert alert-block alert-success\">\n",
    "<b>Success:</b> Great that you've tried several models!\n",
    "</div>"
   ]
  },
  {
   "cell_type": "markdown",
   "metadata": {},
   "source": [
    "## Check the quality of the model using the test set"
   ]
  },
  {
   "cell_type": "code",
   "execution_count": 24,
   "metadata": {},
   "outputs": [
    {
     "name": "stdout",
     "output_type": "stream",
     "text": [
      "0.7791601866251944\n"
     ]
    }
   ],
   "source": [
    "#using max_depth 3\n",
    "model = DecisionTreeClassifier(random_state=12345, max_depth=3)\n",
    "model.fit(features_train, target_train)\n",
    "preds = model.predict(features_test)\n",
    "\n",
    "print(accuracy_score(target_test, preds))\n"
   ]
  },
  {
   "cell_type": "markdown",
   "metadata": {},
   "source": [
    "### Conclusion: quality check with test set\n",
    "\n",
    "1) The resulting accuracy score achieved (0.779) is very close to the validation set results (0.78)\n",
    "\n",
    "2) The quality of the model is acceptable"
   ]
  },
  {
   "cell_type": "markdown",
   "metadata": {},
   "source": [
    "## General Conclusion\n",
    "\n",
    "1) The best model for achieving plan recommendations is a decision tree model with a max depth of 3\n",
    "\n",
    "2) The accuracy score for this model has surpassed the accuracy threshold of 0.75 \n",
    "\n",
    "3) Megaline can use this model to recommend phone plans to new users"
   ]
  }
 ],
 "metadata": {
  "ExecuteTimeLog": [
   {
    "duration": 125,
    "start_time": "2021-11-27T16:34:42.241Z"
   },
   {
    "duration": 7823,
    "start_time": "2021-11-27T16:35:02.789Z"
   },
   {
    "duration": 2750,
    "start_time": "2021-11-27T16:37:38.112Z"
   },
   {
    "duration": 3776,
    "start_time": "2021-11-27T16:37:49.508Z"
   },
   {
    "duration": 46,
    "start_time": "2021-11-27T16:38:12.894Z"
   },
   {
    "duration": 1549,
    "start_time": "2021-12-01T15:37:43.247Z"
   },
   {
    "duration": 1028,
    "start_time": "2021-12-01T15:37:55.258Z"
   },
   {
    "duration": 1074,
    "start_time": "2021-12-01T15:37:56.289Z"
   },
   {
    "duration": 26,
    "start_time": "2021-12-01T15:38:17.163Z"
   },
   {
    "duration": 329,
    "start_time": "2021-12-01T15:49:24.162Z"
   },
   {
    "duration": 311,
    "start_time": "2021-12-01T15:49:45.572Z"
   },
   {
    "duration": 14,
    "start_time": "2021-12-01T15:49:54.092Z"
   },
   {
    "duration": 19,
    "start_time": "2021-12-01T15:55:44.182Z"
   },
   {
    "duration": 1222,
    "start_time": "2021-12-02T01:02:43.087Z"
   },
   {
    "duration": 909,
    "start_time": "2021-12-02T01:04:07.269Z"
   },
   {
    "duration": 603,
    "start_time": "2021-12-02T01:04:08.182Z"
   },
   {
    "duration": 96,
    "start_time": "2021-12-02T01:04:08.788Z"
   },
   {
    "duration": 854,
    "start_time": "2021-12-02T01:06:28.200Z"
   },
   {
    "duration": 624,
    "start_time": "2021-12-02T01:06:29.056Z"
   },
   {
    "duration": 94,
    "start_time": "2021-12-02T01:06:29.682Z"
   },
   {
    "duration": 79,
    "start_time": "2021-12-02T01:13:32.362Z"
   },
   {
    "duration": 228,
    "start_time": "2021-12-02T01:13:42.841Z"
   },
   {
    "duration": 41,
    "start_time": "2021-12-02T01:13:55.568Z"
   },
   {
    "duration": 422,
    "start_time": "2021-12-02T01:14:30.097Z"
   },
   {
    "duration": 50,
    "start_time": "2021-12-02T01:14:39.559Z"
   },
   {
    "duration": 42,
    "start_time": "2021-12-02T01:15:00.249Z"
   },
   {
    "duration": 290,
    "start_time": "2021-12-02T01:19:20.481Z"
   },
   {
    "duration": 41,
    "start_time": "2021-12-02T01:22:06.274Z"
   },
   {
    "duration": 92,
    "start_time": "2021-12-02T01:22:54.023Z"
   },
   {
    "duration": 99,
    "start_time": "2021-12-02T01:23:27.215Z"
   },
   {
    "duration": 41,
    "start_time": "2021-12-02T01:26:37.335Z"
   },
   {
    "duration": 211,
    "start_time": "2021-12-02T01:26:52.615Z"
   },
   {
    "duration": 43,
    "start_time": "2021-12-02T01:26:55.125Z"
   },
   {
    "duration": 808,
    "start_time": "2021-12-02T01:27:12.262Z"
   },
   {
    "duration": 616,
    "start_time": "2021-12-02T01:27:13.073Z"
   },
   {
    "duration": 96,
    "start_time": "2021-12-02T01:27:13.691Z"
   },
   {
    "duration": 35,
    "start_time": "2021-12-02T01:29:00.164Z"
   },
   {
    "duration": 45,
    "start_time": "2021-12-02T01:30:50.728Z"
   },
   {
    "duration": 41,
    "start_time": "2021-12-02T01:52:40.392Z"
   },
   {
    "duration": 34,
    "start_time": "2021-12-02T01:55:54.361Z"
   },
   {
    "duration": 43,
    "start_time": "2021-12-02T01:58:00.246Z"
   },
   {
    "duration": 64,
    "start_time": "2021-12-02T01:58:41.760Z"
   },
   {
    "duration": 507,
    "start_time": "2021-12-02T01:59:32.858Z"
   },
   {
    "duration": 92,
    "start_time": "2021-12-02T02:02:20.825Z"
   },
   {
    "duration": 140,
    "start_time": "2021-12-02T02:02:39.375Z"
   },
   {
    "duration": 317,
    "start_time": "2021-12-02T02:02:45.934Z"
   },
   {
    "duration": 318,
    "start_time": "2021-12-02T02:04:46.199Z"
   },
   {
    "duration": 345,
    "start_time": "2021-12-02T02:05:01.957Z"
   },
   {
    "duration": 323,
    "start_time": "2021-12-02T02:05:59.321Z"
   },
   {
    "duration": 49,
    "start_time": "2021-12-02T02:06:31.907Z"
   },
   {
    "duration": 43,
    "start_time": "2021-12-02T02:07:15.439Z"
   },
   {
    "duration": 40,
    "start_time": "2021-12-02T02:07:39.185Z"
   },
   {
    "duration": 775,
    "start_time": "2021-12-02T02:07:46.486Z"
   },
   {
    "duration": 611,
    "start_time": "2021-12-02T02:07:47.264Z"
   },
   {
    "duration": 103,
    "start_time": "2021-12-02T02:07:47.879Z"
   },
   {
    "duration": 462,
    "start_time": "2021-12-02T02:08:01.707Z"
   },
   {
    "duration": 40,
    "start_time": "2021-12-02T02:08:08.253Z"
   },
   {
    "duration": 129,
    "start_time": "2021-12-02T02:21:02.951Z"
   },
   {
    "duration": 49,
    "start_time": "2021-12-02T02:32:03.441Z"
   },
   {
    "duration": 289,
    "start_time": "2021-12-02T02:34:24.226Z"
   },
   {
    "duration": 44,
    "start_time": "2021-12-02T02:35:03.726Z"
   },
   {
    "duration": 41,
    "start_time": "2021-12-02T02:35:49.008Z"
   },
   {
    "duration": 43,
    "start_time": "2021-12-02T02:35:55.088Z"
   },
   {
    "duration": 43,
    "start_time": "2021-12-02T02:36:10.623Z"
   },
   {
    "duration": 42,
    "start_time": "2021-12-02T02:37:09.826Z"
   },
   {
    "duration": 307,
    "start_time": "2021-12-02T02:43:00.899Z"
   },
   {
    "duration": 305,
    "start_time": "2021-12-02T02:43:09.651Z"
   },
   {
    "duration": 318,
    "start_time": "2021-12-02T02:43:48.306Z"
   },
   {
    "duration": 336,
    "start_time": "2021-12-02T02:43:55.612Z"
   },
   {
    "duration": 295,
    "start_time": "2021-12-02T02:44:02.637Z"
   },
   {
    "duration": 293,
    "start_time": "2021-12-02T02:45:37.034Z"
   },
   {
    "duration": 124,
    "start_time": "2021-12-02T02:45:44.156Z"
   },
   {
    "duration": 27,
    "start_time": "2021-12-02T02:55:26.454Z"
   },
   {
    "duration": 87,
    "start_time": "2021-12-02T03:41:29.245Z"
   },
   {
    "duration": 4613,
    "start_time": "2021-12-02T03:41:39.422Z"
   },
   {
    "duration": 12,
    "start_time": "2021-12-02T03:45:47.222Z"
   },
   {
    "duration": 5716,
    "start_time": "2021-12-02T03:47:04.473Z"
   },
   {
    "duration": 9,
    "start_time": "2021-12-02T03:49:42.038Z"
   }
  ],
  "kernelspec": {
   "display_name": "Python 3 (ipykernel)",
   "language": "python",
   "name": "python3"
  },
  "language_info": {
   "codemirror_mode": {
    "name": "ipython",
    "version": 3
   },
   "file_extension": ".py",
   "mimetype": "text/x-python",
   "name": "python",
   "nbconvert_exporter": "python",
   "pygments_lexer": "ipython3",
   "version": "3.9.5"
  },
  "toc": {
   "base_numbering": 1,
   "nav_menu": {},
   "number_sections": true,
   "sideBar": true,
   "skip_h1_title": true,
   "title_cell": "Table of Contents",
   "title_sidebar": "Contents",
   "toc_cell": false,
   "toc_position": {},
   "toc_section_display": true,
   "toc_window_display": false
  }
 },
 "nbformat": 4,
 "nbformat_minor": 2
}
